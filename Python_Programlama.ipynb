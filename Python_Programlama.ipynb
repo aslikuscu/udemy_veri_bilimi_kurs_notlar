{
 "cells": [
  {
   "cell_type": "code",
   "execution_count": 3,
   "id": "0f2e8c38-82ff-45f5-959e-e82522b45f93",
   "metadata": {},
   "outputs": [
    {
     "data": {
      "text/plain": [
       "str"
      ]
     },
     "execution_count": 3,
     "metadata": {},
     "output_type": "execute_result"
    }
   ],
   "source": [
    "type(9.2)\n",
    "type(\"hello world\")"
   ]
  },
  {
   "cell_type": "code",
   "execution_count": 4,
   "id": "af336872-add6-4a92-b259-65496d1e812c",
   "metadata": {},
   "outputs": [
    {
     "data": {
      "text/plain": [
       "'a-b'"
      ]
     },
     "execution_count": 4,
     "metadata": {},
     "output_type": "execute_result"
    }
   ],
   "source": [
    "\"a\" \"-b\""
   ]
  },
  {
   "cell_type": "code",
   "execution_count": 5,
   "id": "0522d504-43ef-4148-a4d9-69f8529670f1",
   "metadata": {},
   "outputs": [
    {
     "data": {
      "text/plain": [
       "'aaa'"
      ]
     },
     "execution_count": 5,
     "metadata": {},
     "output_type": "execute_result"
    }
   ],
   "source": [
    "\"a\"*3"
   ]
  },
  {
   "cell_type": "code",
   "execution_count": 6,
   "id": "74e35146-f2b8-4a1a-93a8-4dc14375c6ae",
   "metadata": {},
   "outputs": [
    {
     "data": {
      "text/plain": [
       "17"
      ]
     },
     "execution_count": 6,
     "metadata": {},
     "output_type": "execute_result"
    }
   ],
   "source": [
    "#cumlenin uzunlugu verilir\n",
    "a = \"gelecegi yazanlar\"\n",
    "len(a)"
   ]
  },
  {
   "cell_type": "code",
   "execution_count": 10,
   "id": "9dafe499-c2ac-42f5-997e-027566862228",
   "metadata": {},
   "outputs": [
    {
     "data": {
      "text/plain": [
       "'GELECEGI YAZANLAR'"
      ]
     },
     "execution_count": 10,
     "metadata": {},
     "output_type": "execute_result"
    }
   ],
   "source": [
    "#buyuk kucuk harf donusumu\n",
    "a.upper()"
   ]
  },
  {
   "cell_type": "code",
   "execution_count": 11,
   "id": "1ecf66fb-ae03-44a6-aca7-f34fde0847c7",
   "metadata": {},
   "outputs": [
    {
     "data": {
      "text/plain": [
       "False"
      ]
     },
     "execution_count": 11,
     "metadata": {},
     "output_type": "execute_result"
    }
   ],
   "source": [
    "a.isupper()"
   ]
  },
  {
   "cell_type": "code",
   "execution_count": 9,
   "id": "0a3d9a5f-d0ba-4860-b97d-b4caa74c55a2",
   "metadata": {},
   "outputs": [
    {
     "data": {
      "text/plain": [
       "'galacagi yazanlar'"
      ]
     },
     "execution_count": 9,
     "metadata": {},
     "output_type": "execute_result"
    }
   ],
   "source": [
    "a.replace(\"e\" , \"a\")"
   ]
  },
  {
   "cell_type": "code",
   "execution_count": null,
   "id": "0d18700e-434b-4e26-8b31-afc513d755e7",
   "metadata": {},
   "outputs": [],
   "source": [
    "#kilavuz\n",
    "\n",
    "dir(a)"
   ]
  },
  {
   "cell_type": "code",
   "execution_count": 13,
   "id": "a965cfd6-1428-4b21-a0de-63a7ac72c8a8",
   "metadata": {},
   "outputs": [
    {
     "data": {
      "text/plain": [
       "'e'"
      ]
     },
     "execution_count": 13,
     "metadata": {},
     "output_type": "execute_result"
    }
   ],
   "source": [
    "a[1]"
   ]
  },
  {
   "cell_type": "code",
   "execution_count": 14,
   "id": "9c4b6f28-d92b-4e44-bcd2-652a9b09aacf",
   "metadata": {},
   "outputs": [
    {
     "data": {
      "text/plain": [
       "'el'"
      ]
     },
     "execution_count": 14,
     "metadata": {},
     "output_type": "execute_result"
    }
   ],
   "source": [
    "a[1:3]"
   ]
  },
  {
   "cell_type": "code",
   "execution_count": 18,
   "id": "023f6534-67a2-4edf-81e7-98adffc55199",
   "metadata": {},
   "outputs": [
    {
     "name": "stdin",
     "output_type": "stream",
     "text": [
      " 5\n",
      " 4\n"
     ]
    },
    {
     "data": {
      "text/plain": [
       "9"
      ]
     },
     "execution_count": 18,
     "metadata": {},
     "output_type": "execute_result"
    }
   ],
   "source": [
    "birinci_sayi = input() \n",
    "ikinci_sayi = input()\n",
    "int(birinci_sayi) + int(ikinci_sayi)"
   ]
  },
  {
   "cell_type": "code",
   "execution_count": 19,
   "id": "41265c12-13bf-44d3-8e1a-ac9aa6405212",
   "metadata": {},
   "outputs": [
    {
     "name": "stdout",
     "output_type": "stream",
     "text": [
      "gelecegi_yazanlar\n"
     ]
    }
   ],
   "source": [
    "print(\"gelecegi\" , \"yazanlar\" , sep = \"_\")"
   ]
  },
  {
   "cell_type": "code",
   "execution_count": 20,
   "id": "bdab14f9-9df9-42f6-aa31-bf01b9cfd99c",
   "metadata": {},
   "outputs": [
    {
     "data": {
      "text/plain": [
       "'ab'"
      ]
     },
     "execution_count": 20,
     "metadata": {},
     "output_type": "execute_result"
    }
   ],
   "source": [
    "\"a\"+\"b\""
   ]
  },
  {
   "cell_type": "code",
   "execution_count": 21,
   "id": "129a4071-b97e-4dae-bcf5-db122dce97d3",
   "metadata": {},
   "outputs": [
    {
     "name": "stdout",
     "output_type": "stream",
     "text": [
      "16\n"
     ]
    }
   ],
   "source": [
    "degisken = 4\n",
    "print(degisken*degisken)"
   ]
  },
  {
   "cell_type": "code",
   "execution_count": 22,
   "id": "3efbb4fe-f55a-42f2-bbe0-ab154ba29273",
   "metadata": {},
   "outputs": [
    {
     "ename": "TypeError",
     "evalue": "can only concatenate str (not \"int\") to str",
     "output_type": "error",
     "traceback": [
      "\u001b[1;31m---------------------------------------------------------------------------\u001b[0m",
      "\u001b[1;31mTypeError\u001b[0m                                 Traceback (most recent call last)",
      "Cell \u001b[1;32mIn[22], line 1\u001b[0m\n\u001b[1;32m----> 1\u001b[0m \u001b[38;5;124m\"\u001b[39m\u001b[38;5;124m9\u001b[39m\u001b[38;5;124m\"\u001b[39m \u001b[38;5;241m+\u001b[39m \u001b[38;5;241m1\u001b[39m\n",
      "\u001b[1;31mTypeError\u001b[0m: can only concatenate str (not \"int\") to str"
     ]
    }
   ],
   "source": [
    "\"9\" + 1"
   ]
  },
  {
   "cell_type": "code",
   "execution_count": 23,
   "id": "d60d924c-fd4f-4ce7-a434-86adb397c9e4",
   "metadata": {},
   "outputs": [
    {
     "data": {
      "text/plain": [
       "'Python'"
      ]
     },
     "execution_count": 23,
     "metadata": {},
     "output_type": "execute_result"
    }
   ],
   "source": [
    "\"_Python_\".strip(\"_\")"
   ]
  },
  {
   "cell_type": "code",
   "execution_count": 24,
   "id": "7bbe1438-c1ed-43f0-8a99-59f1ee931e7d",
   "metadata": {},
   "outputs": [
    {
     "data": {
      "text/plain": [
       "'Merhaba! '"
      ]
     },
     "execution_count": 24,
     "metadata": {},
     "output_type": "execute_result"
    }
   ],
   "source": [
    "ifade = \"Merhaba! \"\n",
    "ifade.strip(\"\")"
   ]
  },
  {
   "cell_type": "code",
   "execution_count": 25,
   "id": "33e81991-f99e-49cf-b298-637ebb6ffdcf",
   "metadata": {},
   "outputs": [],
   "source": [
    "ifade = \"Merhaba! \""
   ]
  },
  {
   "cell_type": "code",
   "execution_count": 26,
   "id": "fc927eaf-07d2-441b-90d5-1618b0b04344",
   "metadata": {},
   "outputs": [
    {
     "data": {
      "text/plain": [
       "list"
      ]
     },
     "execution_count": 26,
     "metadata": {},
     "output_type": "execute_result"
    }
   ],
   "source": [
    "notlar = [90, 60, 30]\n",
    "type(notlar)"
   ]
  },
  {
   "cell_type": "code",
   "execution_count": 27,
   "id": "83f9ca44-04dd-4d74-af41-57d61e809b4e",
   "metadata": {},
   "outputs": [
    {
     "data": {
      "text/plain": [
       "90"
      ]
     },
     "execution_count": 27,
     "metadata": {},
     "output_type": "execute_result"
    }
   ],
   "source": [
    "list_genis = [\"a\", notlar, 90, 19.4]\n",
    "list_genis[2]"
   ]
  },
  {
   "cell_type": "code",
   "execution_count": 29,
   "id": "285552cc-d416-4f64-8d80-ed433cad8d43",
   "metadata": {},
   "outputs": [
    {
     "data": {
      "text/plain": [
       "float"
      ]
     },
     "execution_count": 29,
     "metadata": {},
     "output_type": "execute_result"
    }
   ],
   "source": [
    "type(list_genis[3])"
   ]
  },
  {
   "cell_type": "code",
   "execution_count": 30,
   "id": "188ef4ed-1426-4581-89db-eef8fd93d335",
   "metadata": {},
   "outputs": [
    {
     "data": {
      "text/plain": [
       "[1, 2]"
      ]
     },
     "execution_count": 30,
     "metadata": {},
     "output_type": "execute_result"
    }
   ],
   "source": [
    "liste = [1, 2, 45, 235, 2456, 21]\n",
    "liste[0:2]"
   ]
  },
  {
   "cell_type": "code",
   "execution_count": 41,
   "id": "8ce132a3-6b6c-4f1d-b651-dc1d05311def",
   "metadata": {},
   "outputs": [
    {
     "data": {
      "text/plain": [
       "['asd', 'asd', 'asd', 1, 2, 45, 235, 2456, 21]"
      ]
     },
     "execution_count": 41,
     "metadata": {},
     "output_type": "execute_result"
    }
   ],
   "source": [
    "liste.insert(0, \"asd\") #veya liste[0] = \"asd\"\n",
    "liste"
   ]
  },
  {
   "cell_type": "code",
   "execution_count": 43,
   "id": "9e3e0742-83c2-450d-b757-a912ef1a6897",
   "metadata": {},
   "outputs": [
    {
     "data": {
      "text/plain": [
       "3"
      ]
     },
     "execution_count": 43,
     "metadata": {},
     "output_type": "execute_result"
    }
   ],
   "source": [
    "liste.count(\"asd\")"
   ]
  },
  {
   "cell_type": "code",
   "execution_count": 44,
   "id": "c2071020-f216-4815-8a5b-d874b8fbee76",
   "metadata": {},
   "outputs": [],
   "source": [
    "liste_yedek = liste.copy()"
   ]
  },
  {
   "cell_type": "code",
   "execution_count": 46,
   "id": "c18e9ac8-db9b-48ad-a857-4c35d0211908",
   "metadata": {},
   "outputs": [
    {
     "data": {
      "text/plain": [
       "['asd',\n",
       " 'asd',\n",
       " 'asd',\n",
       " 1,\n",
       " 45,\n",
       " 235,\n",
       " 2456,\n",
       " 21,\n",
       " 'asli',\n",
       " 2234,\n",
       " 348.3,\n",
       " 'asli',\n",
       " 2234,\n",
       " 348.3]"
      ]
     },
     "execution_count": 46,
     "metadata": {},
     "output_type": "execute_result"
    }
   ],
   "source": [
    "liste.extend([\"asli\", 2234, 348.3])\n",
    "liste"
   ]
  },
  {
   "cell_type": "code",
   "execution_count": 47,
   "id": "f5797c75-448e-4126-afa4-69eaf0e8281c",
   "metadata": {},
   "outputs": [
    {
     "data": {
      "text/plain": [
       "8"
      ]
     },
     "execution_count": 47,
     "metadata": {},
     "output_type": "execute_result"
    }
   ],
   "source": [
    "liste.index(\"asli\")"
   ]
  },
  {
   "cell_type": "code",
   "execution_count": 48,
   "id": "8fb9edc0-c453-42f8-9d7b-61262f122c02",
   "metadata": {},
   "outputs": [
    {
     "ename": "TypeError",
     "evalue": "'<' not supported between instances of 'int' and 'str'",
     "output_type": "error",
     "traceback": [
      "\u001b[1;31m---------------------------------------------------------------------------\u001b[0m",
      "\u001b[1;31mTypeError\u001b[0m                                 Traceback (most recent call last)",
      "Cell \u001b[1;32mIn[48], line 1\u001b[0m\n\u001b[1;32m----> 1\u001b[0m liste\u001b[38;5;241m.\u001b[39msort()\n",
      "\u001b[1;31mTypeError\u001b[0m: '<' not supported between instances of 'int' and 'str'"
     ]
    }
   ],
   "source": [
    "liste.sort()"
   ]
  },
  {
   "cell_type": "code",
   "execution_count": null,
   "id": "d07262fe-9fab-47e4-9740-f0ab54c86f68",
   "metadata": {},
   "outputs": [],
   "source": []
  },
  {
   "cell_type": "code",
   "execution_count": 42,
   "id": "656d93c2-813c-49d9-96f4-bc4388c9db58",
   "metadata": {},
   "outputs": [
    {
     "data": {
      "text/plain": [
       "2"
      ]
     },
     "execution_count": 42,
     "metadata": {},
     "output_type": "execute_result"
    }
   ],
   "source": [
    "liste.pop(4)"
   ]
  },
  {
   "cell_type": "code",
   "execution_count": 31,
   "id": "493777b5-73b3-411a-aaeb-55bfa25890bc",
   "metadata": {},
   "outputs": [
    {
     "data": {
      "text/plain": [
       "23.3"
      ]
     },
     "execution_count": 31,
     "metadata": {},
     "output_type": "execute_result"
    }
   ],
   "source": [
    "yeni_liste = [\"a\", 2, 23.3, [1,2,3,4]]\n",
    "yeni_liste[2]"
   ]
  },
  {
   "cell_type": "code",
   "execution_count": 34,
   "id": "0b97c193-6aa8-4cae-b9ba-267cf0a19aaf",
   "metadata": {},
   "outputs": [
    {
     "data": {
      "text/plain": [
       "['a', 2, 23.3, [1, 2, 3, 4], 'kemal', 'kemal']"
      ]
     },
     "execution_count": 34,
     "metadata": {},
     "output_type": "execute_result"
    }
   ],
   "source": [
    "yeni_liste = yeni_liste + [\"kemal\"] #ayni sekilde yeni_liste.append(\"kemal\")\n",
    "yeni_liste"
   ]
  },
  {
   "cell_type": "code",
   "execution_count": 35,
   "id": "506c0912-c7dd-4ba1-87fb-2e8818de1a42",
   "metadata": {},
   "outputs": [
    {
     "data": {
      "text/plain": [
       "['a', 2, [1, 2, 3, 4], 'kemal', 'kemal']"
      ]
     },
     "execution_count": 35,
     "metadata": {},
     "output_type": "execute_result"
    }
   ],
   "source": [
    "del yeni_liste[2] #ayni sekilde yeni_liste.remove(23.3)\n",
    "yeni_liste"
   ]
  },
  {
   "cell_type": "code",
   "execution_count": 51,
   "id": "bb634a5c-f00e-4f88-a9c5-695f38b0eaca",
   "metadata": {},
   "outputs": [
    {
     "data": {
      "text/plain": [
       "[1, 2, 5, 12]"
      ]
     },
     "execution_count": 51,
     "metadata": {},
     "output_type": "execute_result"
    }
   ],
   "source": [
    "asli = [12,2,5,1]\n",
    "asli.sort()\n",
    "asli"
   ]
  },
  {
   "cell_type": "code",
   "execution_count": 55,
   "id": "dbf8c2fb-c326-435a-aca8-aca16649cf00",
   "metadata": {},
   "outputs": [
    {
     "data": {
      "text/plain": [
       "{'reg': 'regresyon modeli',\n",
       " 'loj': 'lojistik regresyon',\n",
       " 'cart': 'classification and reg'}"
      ]
     },
     "execution_count": 55,
     "metadata": {},
     "output_type": "execute_result"
    }
   ],
   "source": [
    "sozluk = {\n",
    "    \"reg\" : \"regresyon modeli\",\n",
    "    \"loj\" : \"lojistik regresyon\",\n",
    "    \"cart\" : \"classification and reg\"\n",
    "}\n",
    "sozluk"
   ]
  },
  {
   "cell_type": "code",
   "execution_count": 58,
   "id": "545757df-9380-4a73-8d56-4330181d5f9b",
   "metadata": {},
   "outputs": [
    {
     "data": {
      "text/plain": [
       "'regresyon modeli'"
      ]
     },
     "execution_count": 58,
     "metadata": {},
     "output_type": "execute_result"
    }
   ],
   "source": [
    "sozluk[\"reg\"]"
   ]
  },
  {
   "cell_type": "code",
   "execution_count": 59,
   "id": "4486da10-7edd-4845-be31-9ebd2d7f9187",
   "metadata": {},
   "outputs": [
    {
     "data": {
      "text/plain": [
       "30"
      ]
     },
     "execution_count": 59,
     "metadata": {},
     "output_type": "execute_result"
    }
   ],
   "source": [
    "sozluk2 = {\n",
    "    \"reg\" : {\n",
    "        \"rmse\" : 10,\n",
    "        \"mse\" : 20,\n",
    "        \"sse\" : 30\n",
    "    },\n",
    "    \"loj\" : {\n",
    "        \"rmse\" : 23,\n",
    "        \"mse\" : 45,\n",
    "        \"sse\" : 56\n",
    "    }\n",
    "}\n",
    "\n",
    "sozluk2[\"reg\"][\"sse\"]"
   ]
  },
  {
   "cell_type": "code",
   "execution_count": 62,
   "id": "f25d63d9-f502-4aa4-bb29-6226774a9610",
   "metadata": {},
   "outputs": [
    {
     "data": {
      "text/plain": [
       "{'gelecegi', 'ile', 'yazanlar'}"
      ]
     },
     "execution_count": 62,
     "metadata": {},
     "output_type": "execute_result"
    }
   ],
   "source": [
    "l = [\"gelecegi\", \"yazanlar\"]\n",
    "l = set(l)\n",
    "l.add(\"ile\")\n",
    "l"
   ]
  },
  {
   "cell_type": "code",
   "execution_count": 63,
   "id": "3c5cee52-5997-431e-8e57-fa46858d4c7c",
   "metadata": {},
   "outputs": [
    {
     "data": {
      "text/plain": [
       "{1}"
      ]
     },
     "execution_count": 63,
     "metadata": {},
     "output_type": "execute_result"
    }
   ],
   "source": [
    "set1 = set([1,3,4])\n",
    "set2 = set([3,2,4])\n",
    "set1.difference(set2) \n",
    "\n",
    "#veya set1-set2"
   ]
  },
  {
   "cell_type": "code",
   "execution_count": 65,
   "id": "fc8029dc-647b-4024-9009-6b26d3ab59b3",
   "metadata": {},
   "outputs": [
    {
     "data": {
      "text/plain": [
       "{3, 4}"
      ]
     },
     "execution_count": 65,
     "metadata": {},
     "output_type": "execute_result"
    }
   ],
   "source": [
    "set1.intersection(set2)\n",
    "\n",
    "#veya kesisim = set1 & set2"
   ]
  },
  {
   "cell_type": "code",
   "execution_count": 66,
   "id": "75e08b85-b611-414f-b547-9a21ff6d287e",
   "metadata": {},
   "outputs": [
    {
     "data": {
      "text/plain": [
       "{1, 2}"
      ]
     },
     "execution_count": 66,
     "metadata": {},
     "output_type": "execute_result"
    }
   ],
   "source": [
    "set1.symmetric_difference(set2)"
   ]
  },
  {
   "cell_type": "code",
   "execution_count": 67,
   "id": "edfe8392-1478-4ede-a264-e18ff3f1efe3",
   "metadata": {},
   "outputs": [
    {
     "data": {
      "text/plain": [
       "{1, 2, 3, 4}"
      ]
     },
     "execution_count": 67,
     "metadata": {},
     "output_type": "execute_result"
    }
   ],
   "source": [
    "set1.union(set2)"
   ]
  },
  {
   "cell_type": "code",
   "execution_count": 68,
   "id": "4f3b717f-36b8-4b41-a193-a5cef1a0f52e",
   "metadata": {},
   "outputs": [
    {
     "data": {
      "text/plain": [
       "[10, 30, 40]"
      ]
     },
     "execution_count": 68,
     "metadata": {},
     "output_type": "execute_result"
    }
   ],
   "source": [
    "liste = [10,20,30,40]\n",
    "liste.pop(1)\n",
    "liste"
   ]
  },
  {
   "cell_type": "code",
   "execution_count": 69,
   "id": "c97480e6-35ed-40c8-a10d-6cfa5f316a5c",
   "metadata": {},
   "outputs": [
    {
     "data": {
      "text/plain": [
       "['a', 'b', 'c', 'a', 'b', 'c']"
      ]
     },
     "execution_count": 69,
     "metadata": {},
     "output_type": "execute_result"
    }
   ],
   "source": [
    "liste = [\"a\",\"b\",\"c\"]\n",
    "liste.extend(liste)\n",
    "liste"
   ]
  },
  {
   "cell_type": "code",
   "execution_count": 70,
   "id": "a4c0c9d1-130f-48ed-acae-24555214deb9",
   "metadata": {},
   "outputs": [
    {
     "data": {
      "text/plain": [
       "['c', 'b', 'a']"
      ]
     },
     "execution_count": 70,
     "metadata": {},
     "output_type": "execute_result"
    }
   ],
   "source": [
    "liste = [\"a\",\"b\",\"c\"]\n",
    "liste.reverse()\n",
    "liste"
   ]
  },
  {
   "cell_type": "code",
   "execution_count": 72,
   "id": "db305ecc-629c-46ad-801e-a1faafba9230",
   "metadata": {},
   "outputs": [
    {
     "data": {
      "text/plain": [
       "1"
      ]
     },
     "execution_count": 72,
     "metadata": {},
     "output_type": "execute_result"
    }
   ],
   "source": [
    "liste = [\"a\",\"b\",\"c\"]\n",
    "liste.index(\"b\")"
   ]
  },
  {
   "cell_type": "code",
   "execution_count": 73,
   "id": "1740469f-fbea-4c80-b160-beb457fefc63",
   "metadata": {},
   "outputs": [
    {
     "data": {
      "text/plain": [
       "[]"
      ]
     },
     "execution_count": 73,
     "metadata": {},
     "output_type": "execute_result"
    }
   ],
   "source": [
    "liste = [10,10,20,40]\n",
    "liste.clear()\n",
    "liste"
   ]
  },
  {
   "cell_type": "code",
   "execution_count": 80,
   "id": "e18a8295-c28a-4061-9ef0-0f12f8939b8a",
   "metadata": {},
   "outputs": [
    {
     "name": "stdout",
     "output_type": "stream",
     "text": [
      "25\n"
     ]
    }
   ],
   "source": [
    "def kare_al(x):\n",
    "    print(x**2)\n",
    "kare_al(5)\n"
   ]
  },
  {
   "cell_type": "code",
   "execution_count": 83,
   "id": "b2feb86d-df1f-4c8a-897c-2772208aa101",
   "metadata": {},
   "outputs": [
    {
     "name": "stdout",
     "output_type": "stream",
     "text": [
      "6\n"
     ]
    }
   ],
   "source": [
    "def carpma_yap(x, y):\n",
    "    print(x*y)\n",
    "carpma_yap(2,3)"
   ]
  },
  {
   "cell_type": "code",
   "execution_count": 86,
   "id": "ee261178-8ebc-45f9-b437-f86c3b486cd2",
   "metadata": {},
   "outputs": [
    {
     "data": {
      "text/plain": [
       "6"
      ]
     },
     "execution_count": 86,
     "metadata": {},
     "output_type": "execute_result"
    }
   ],
   "source": [
    "x = 40\n",
    "y = 43\n",
    "def carpma_yap(x, y):\n",
    "    return x*y\n",
    "carpma_yap(2, 3)"
   ]
  },
  {
   "cell_type": "code",
   "execution_count": 87,
   "id": "6aab7419-1e05-49c7-ae9b-2c2835be0c23",
   "metadata": {},
   "outputs": [
    {
     "data": {
      "text/plain": [
       "True"
      ]
     },
     "execution_count": 87,
     "metadata": {},
     "output_type": "execute_result"
    }
   ],
   "source": [
    "5 == 5"
   ]
  },
  {
   "cell_type": "code",
   "execution_count": 98,
   "id": "3af7f767-c432-416a-b598-b2c4c149d7bc",
   "metadata": {},
   "outputs": [
    {
     "name": "stdin",
     "output_type": "stream",
     "text": [
      "magaza adi nedir? mango\n",
      "gelirinizi giriniz:  3000\n"
     ]
    },
    {
     "name": "stdout",
     "output_type": "stream",
     "text": [
      "uyari! cok dusuk gelir: 3000\n"
     ]
    }
   ],
   "source": [
    "sinir = 50000\n",
    "magaza_adi = input(\"magaza adi nedir?\")\n",
    "gelir = int(input(\"gelirinizi giriniz: \"))\n",
    "\n",
    "\n",
    "if gelir > sinir:\n",
    "    print(\"tebrikler\" + magaza_adi + \" promosyon kazandiniz\")\n",
    "elif gelir < sinir:\n",
    "    print(\"uyari! cok dusuk gelir: \" + str(gelir))\n",
    "else:\n",
    "    print(\"takibe devam\")"
   ]
  },
  {
   "cell_type": "code",
   "execution_count": 102,
   "id": "f8fccb1b-b972-4f90-b21e-956123d51ec0",
   "metadata": {},
   "outputs": [
    {
     "name": "stdout",
     "output_type": "stream",
     "text": [
      "1200.0\n",
      "1440.0\n",
      "37400.0\n",
      "36740.0\n"
     ]
    }
   ],
   "source": [
    "maaslar = [1000, 1200, 34000, 33400]\n",
    "\n",
    "def maas_ust(x):\n",
    "    print(x*10/100 + x)\n",
    "\n",
    "def maas_alt(x):\n",
    "    print(x*20/100 + x)\n",
    "\n",
    "for i in maaslar:\n",
    "    if i >= 3000:\n",
    "        maas_ust(i)\n",
    "    else:\n",
    "        maas_alt(i)"
   ]
  },
  {
   "cell_type": "code",
   "execution_count": 119,
   "id": "da442246-337a-46cf-b3ee-52f585c443ab",
   "metadata": {},
   "outputs": [
    {
     "name": "stdout",
     "output_type": "stream",
     "text": [
      "1000\n",
      "1000\n",
      "2000\n",
      "kesildi\n"
     ]
    }
   ],
   "source": [
    "maaslar = [8000, 5000, 2000, 1000, 3000, 7000, 1000]\n",
    "\n",
    "maaslar.sort()\n",
    "maaslar \n",
    "\n",
    "\n",
    "for i in maaslar:\n",
    "    if i == 3000:\n",
    "        print(\"kesildi\")\n",
    "        break\n",
    "    print(i)"
   ]
  },
  {
   "cell_type": "code",
   "execution_count": 120,
   "id": "1afa907c-f692-446a-8384-9ed7143ae6ea",
   "metadata": {},
   "outputs": [
    {
     "name": "stdout",
     "output_type": "stream",
     "text": [
      "2\n",
      "3\n",
      "4\n",
      "5\n",
      "6\n",
      "7\n",
      "8\n",
      "9\n"
     ]
    }
   ],
   "source": [
    "sayi = 1\n",
    "\n",
    "while sayi < 9:\n",
    "    sayi += 1\n",
    "    print(sayi)"
   ]
  },
  {
   "cell_type": "code",
   "execution_count": null,
   "id": "bb072baf-76d9-46a0-82d9-8f66c898bb41",
   "metadata": {},
   "outputs": [],
   "source": [
    "Aşağıdakilerden hangisi fonksiyon tanımlamak için kullanılır?\n",
    "def\n"
   ]
  },
  {
   "cell_type": "code",
   "execution_count": 121,
   "id": "f9baf69b-d2dc-4c8a-bd9f-3334a9aee2a9",
   "metadata": {},
   "outputs": [
    {
     "name": "stdout",
     "output_type": "stream",
     "text": [
      "gelecegi yazanlar\n"
     ]
    }
   ],
   "source": [
    "def yazdir(metin):\n",
    "    print(metin, \"yazanlar\")\n",
    " \n",
    "yazdir(\"gelecegi\")"
   ]
  },
  {
   "cell_type": "code",
   "execution_count": 122,
   "id": "dc28607d-fcaf-4e36-91dc-c3cbe6557c43",
   "metadata": {},
   "outputs": [
    {
     "name": "stdout",
     "output_type": "stream",
     "text": [
      "10\n"
     ]
    }
   ],
   "source": [
    "def islem(x, y):\n",
    "    print(x + y)\n",
    " \n",
    "islem(1,9)"
   ]
  },
  {
   "cell_type": "code",
   "execution_count": 129,
   "id": "0bdf658a-76c6-4f40-8637-584914fcc335",
   "metadata": {},
   "outputs": [
    {
     "data": {
      "text/plain": [
       "8"
      ]
     },
     "execution_count": 129,
     "metadata": {},
     "output_type": "execute_result"
    }
   ],
   "source": [
    "def harf_say(x):\n",
    "    return len(x)\n",
    " \n",
    "harf_say(\"Merhaba!\")\n",
    "\n",
    "# return kismi cok onemli"
   ]
  },
  {
   "cell_type": "code",
   "execution_count": 128,
   "id": "8540abda-8b78-4144-997d-bb9157d01570",
   "metadata": {},
   "outputs": [
    {
     "data": {
      "text/plain": [
       "10"
      ]
     },
     "execution_count": 128,
     "metadata": {},
     "output_type": "execute_result"
    }
   ],
   "source": [
    "def islem(x):\n",
    "    if (x<0):\n",
    "        return \"NO\"\n",
    "    else:\n",
    "        return x*5\n",
    " \n",
    "islem(2)"
   ]
  },
  {
   "cell_type": "code",
   "execution_count": 130,
   "id": "8810d368-0d37-4719-a682-4b84c24bf351",
   "metadata": {},
   "outputs": [
    {
     "data": {
      "text/plain": [
       "[1, 4, 9]"
      ]
     },
     "execution_count": 130,
     "metadata": {},
     "output_type": "execute_result"
    }
   ],
   "source": [
    "a = [1,2,3]\n",
    "b = []\n",
    "for i in a:\n",
    "    b.append(i**2)\n",
    " \n",
    "b"
   ]
  },
  {
   "cell_type": "code",
   "execution_count": 131,
   "id": "f8a8bf9a-1e28-4910-968c-8db662f5adab",
   "metadata": {},
   "outputs": [
    {
     "name": "stdout",
     "output_type": "stream",
     "text": [
      "Merhaba!\n"
     ]
    }
   ],
   "source": [
    "def mesaj():\n",
    "    print(\"Merhaba!\")\n",
    " \n",
    "mesaj()"
   ]
  },
  {
   "cell_type": "code",
   "execution_count": 132,
   "id": "92f17ff4-5fae-47b5-a3a3-1fd493dde62f",
   "metadata": {},
   "outputs": [
    {
     "name": "stdout",
     "output_type": "stream",
     "text": [
      "a\n",
      "11\n"
     ]
    }
   ],
   "source": [
    "for i in [\"a\",11]:\n",
    "    print(i)"
   ]
  },
  {
   "cell_type": "code",
   "execution_count": 133,
   "id": "fb04c042-5e1a-47bf-8885-e0ff9cf9e622",
   "metadata": {},
   "outputs": [
    {
     "data": {
      "text/plain": [
       "1"
      ]
     },
     "execution_count": 133,
     "metadata": {},
     "output_type": "execute_result"
    }
   ],
   "source": [
    "A = []\n",
    " \n",
    "for i in [1,2,3,4]:\n",
    "    A.append(i)\n",
    " \n",
    " \n",
    "A[0]"
   ]
  },
  {
   "cell_type": "code",
   "execution_count": 134,
   "id": "0d586267-d61c-4ed4-b959-c920ea9a8083",
   "metadata": {},
   "outputs": [
    {
     "name": "stdout",
     "output_type": "stream",
     "text": [
      "NO\n"
     ]
    }
   ],
   "source": [
    "if [1,2,3,4][2] == 2:\n",
    "    print(\"YES\")\n",
    "else:\n",
    "    print(\"NO\")"
   ]
  },
  {
   "cell_type": "code",
   "execution_count": 135,
   "id": "bb0ce01d-eb79-4b16-9c45-eb8306b7ded9",
   "metadata": {},
   "outputs": [
    {
     "name": "stdout",
     "output_type": "stream",
     "text": [
      "A\n"
     ]
    }
   ],
   "source": [
    "A = \"*A*\"\n",
    "if type(A) == str:\n",
    "    A = A.strip(\"*\")\n",
    "    print(A)"
   ]
  },
  {
   "cell_type": "code",
   "execution_count": 136,
   "id": "b4dd0d06-5d1b-4fa5-89c4-77576da97a7a",
   "metadata": {},
   "outputs": [
    {
     "name": "stdout",
     "output_type": "stream",
     "text": [
      "*12*\n"
     ]
    }
   ],
   "source": [
    "A = 12\n",
    " \n",
    "if type(A) == str:\n",
    "    A = A.strip(\"*\")\n",
    "    print(A)\n",
    "else:\n",
    "    A = \"*\" + str(A) + \"*\"\n",
    "    print(A.strip())"
   ]
  },
  {
   "cell_type": "code",
   "execution_count": 137,
   "id": "e5a6ec94-e54b-42f2-8bb1-04141d1b403a",
   "metadata": {},
   "outputs": [
    {
     "data": {
      "text/plain": [
       "'b'"
      ]
     },
     "execution_count": 137,
     "metadata": {},
     "output_type": "execute_result"
    }
   ],
   "source": [
    "A = []\n",
    "B = []\n",
    " \n",
    " \n",
    "for i in [1,\"a\",12,\"b\"]:\n",
    "    if type(i) == int:\n",
    "        B.append(i)\n",
    "    else:\n",
    "        A.append(i)\n",
    " \n",
    "A[1]"
   ]
  },
  {
   "cell_type": "code",
   "execution_count": 138,
   "id": "aec256ef-196d-4158-bccd-722325c29edf",
   "metadata": {},
   "outputs": [
    {
     "data": {
      "text/plain": [
       "4"
      ]
     },
     "execution_count": 138,
     "metadata": {},
     "output_type": "execute_result"
    }
   ],
   "source": [
    "def islem(x,y):\n",
    "    A = [x,y]\n",
    "    return A[0] + A[1]\n",
    " \n",
    "islem(1,3)"
   ]
  },
  {
   "cell_type": "code",
   "execution_count": 2,
   "id": "5221f2f7-3d00-4006-9a23-707cbdf543f1",
   "metadata": {},
   "outputs": [
    {
     "data": {
      "text/plain": [
       "''"
      ]
     },
     "execution_count": 2,
     "metadata": {},
     "output_type": "execute_result"
    }
   ],
   "source": [
    "class VeriBilimci():\n",
    "    bolum = ''\n",
    "    sql = 'evet'\n",
    "    deneyim_yili = 0\n",
    "    bildigi_diller = []\n",
    "\n",
    "VeriBilimci.bolum"
   ]
  },
  {
   "cell_type": "code",
   "execution_count": 3,
   "id": "c4968681-eeb9-48e0-8d3d-41bb6c71e78c",
   "metadata": {},
   "outputs": [
    {
     "data": {
      "text/plain": [
       "'hayir'"
      ]
     },
     "execution_count": 3,
     "metadata": {},
     "output_type": "execute_result"
    }
   ],
   "source": [
    "#ozelligi degistirmek\n",
    "\n",
    "VeriBilimci.sql = \"hayir\"\n",
    "VeriBilimci.sql"
   ]
  },
  {
   "cell_type": "code",
   "execution_count": 4,
   "id": "6b15c04f-2c93-4334-b100-8b704d5acfc7",
   "metadata": {},
   "outputs": [
    {
     "data": {
      "text/plain": [
       "'hayir'"
      ]
     },
     "execution_count": 4,
     "metadata": {},
     "output_type": "execute_result"
    }
   ],
   "source": [
    "ali = VeriBilimci()\n",
    "\n",
    "ali.sql"
   ]
  },
  {
   "cell_type": "code",
   "execution_count": 5,
   "id": "80a5a2ce-df6e-404a-b591-8e7a10a3e530",
   "metadata": {},
   "outputs": [
    {
     "data": {
      "text/plain": [
       "['python']"
      ]
     },
     "execution_count": 5,
     "metadata": {},
     "output_type": "execute_result"
    }
   ],
   "source": [
    "ali.bildigi_diller.append(\"python\")\n",
    "ali.bildigi_diller"
   ]
  },
  {
   "cell_type": "code",
   "execution_count": 8,
   "id": "b2ae1a40-816c-4800-b56d-8e453f4d5568",
   "metadata": {},
   "outputs": [
    {
     "data": {
      "text/plain": [
       "15"
      ]
     },
     "execution_count": 8,
     "metadata": {},
     "output_type": "execute_result"
    }
   ],
   "source": [
    "#yan etkisiz fonksiyonlar\n",
    "\n",
    "a = 9 \n",
    "\n",
    "def impure_sum(b):\n",
    "    return b + a\n",
    "\n",
    "def pure_sum(a,b):\n",
    "    return a + b\n",
    "\n",
    "impure_sum(6)\n"
   ]
  },
  {
   "cell_type": "code",
   "execution_count": 7,
   "id": "e15b7a0b-0a78-4bb9-914b-b8e95eec4493",
   "metadata": {},
   "outputs": [
    {
     "data": {
      "text/plain": [
       "7"
      ]
     },
     "execution_count": 7,
     "metadata": {},
     "output_type": "execute_result"
    }
   ],
   "source": [
    "pure_sum(3,4)"
   ]
  },
  {
   "cell_type": "code",
   "execution_count": 9,
   "id": "5f1fa1af-b7a4-4efa-8a69-d2bbdf17ea13",
   "metadata": {},
   "outputs": [
    {
     "data": {
      "text/plain": [
       "[]"
      ]
     },
     "execution_count": 9,
     "metadata": {},
     "output_type": "execute_result"
    }
   ],
   "source": [
    "class BolumSorulari():\n",
    "    fonksiyonlar = []\n",
    "    OOP = []\n",
    " \n",
    " \n",
    "BolumSorulari.OOP"
   ]
  },
  {
   "cell_type": "code",
   "execution_count": null,
   "id": "18d925a7-82d1-415c-aecd-6775e9c364bb",
   "metadata": {},
   "outputs": [],
   "source": []
  }
 ],
 "metadata": {
  "kernelspec": {
   "display_name": "Python 3 (ipykernel)",
   "language": "python",
   "name": "python3"
  },
  "language_info": {
   "codemirror_mode": {
    "name": "ipython",
    "version": 3
   },
   "file_extension": ".py",
   "mimetype": "text/x-python",
   "name": "python",
   "nbconvert_exporter": "python",
   "pygments_lexer": "ipython3",
   "version": "3.11.7"
  }
 },
 "nbformat": 4,
 "nbformat_minor": 5
}
